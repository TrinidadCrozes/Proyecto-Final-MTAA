{
 "cells": [
  {
   "cell_type": "code",
   "execution_count": 1,
   "id": "ae54d264-8137-4744-8581-f1c812c00c57",
   "metadata": {},
   "outputs": [],
   "source": [
    "import pandas as pd\n",
    "from ollama import chat\n",
    "from ollama import ChatResponse\n",
    "from tqdm import tqdm"
   ]
  },
  {
   "cell_type": "code",
   "execution_count": 2,
   "id": "ebeb8750-a9d6-4ba4-a819-5fcf53a4adb6",
   "metadata": {},
   "outputs": [],
   "source": [
    "X = pd.read_csv('X_test_finetuning.csv')\n",
    "y = pd.read_csv('y_test_finetuning.csv')"
   ]
  },
  {
   "cell_type": "code",
   "execution_count": 3,
   "id": "7b2c8025-684c-4c32-9863-74ec54f0edcf",
   "metadata": {},
   "outputs": [
    {
     "data": {
      "text/plain": [
       "'NC(=O)C(c1ccccc1)(c1ccccc1)[C@@H]1CCN(CCc2ccc3c(c2)CCO3)C1'"
      ]
     },
     "execution_count": 3,
     "metadata": {},
     "output_type": "execute_result"
    }
   ],
   "source": [
    "X['Neutralized SMILES'][1]"
   ]
  },
  {
   "cell_type": "code",
   "execution_count": 6,
   "id": "3b281e55-ba6f-48fb-9e5c-3325f1efd910",
   "metadata": {},
   "outputs": [
    {
     "name": "stdout",
     "output_type": "stream",
     "text": [
      "R1\n",
      "\n",
      "InChI=1S/C18H18N2O4/c1-10(13)16-14-15-9(3)7(5)8(6)11-17(12)18/h1-3,5-6,9-11,13-15H,16H,17H/t1-7,12-\n"
     ]
    }
   ],
   "source": [
    "s_smiles = X['Neutralized SMILES'][1]\n",
    "response: ChatResponse = chat(\n",
    "    model='gemma-finetuned', \n",
    "    messages=[{\"role\": \"user\", \"content\": s_smiles}],#N06BX \n",
    "    options={\n",
    "        'num_predict': 100  # límite de tokens generados\n",
    "    }\n",
    ")\n",
    "print(response['message']['content'])"
   ]
  },
  {
   "cell_type": "code",
   "execution_count": null,
   "id": "9522d09b-76ff-4f5b-92ec-b268bbde97da",
   "metadata": {},
   "outputs": [],
   "source": []
  }
 ],
 "metadata": {
  "kernelspec": {
   "display_name": "Python 3 (ipykernel)",
   "language": "python",
   "name": "python3"
  },
  "language_info": {
   "codemirror_mode": {
    "name": "ipython",
    "version": 3
   },
   "file_extension": ".py",
   "mimetype": "text/x-python",
   "name": "python",
   "nbconvert_exporter": "python",
   "pygments_lexer": "ipython3",
   "version": "3.12.4"
  }
 },
 "nbformat": 4,
 "nbformat_minor": 5
}
