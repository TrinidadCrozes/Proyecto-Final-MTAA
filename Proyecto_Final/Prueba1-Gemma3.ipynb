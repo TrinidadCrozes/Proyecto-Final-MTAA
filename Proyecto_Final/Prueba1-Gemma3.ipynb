{
 "cells": [
  {
   "cell_type": "code",
   "execution_count": 1,
   "id": "338a44aa-e2ad-4bcf-afa4-849f7fe234bc",
   "metadata": {},
   "outputs": [
    {
     "name": "stdout",
     "output_type": "stream",
     "text": [
      "Okay, let's analyze these SMILES strings and determine the ATC codes.\n",
      "\n",
      "**DRUG 1: Cc1ncc(COP(=O)(O)O)c(C=O)c1O**\n",
      "\n",
      "This molecule represents **Ibuprofen**.\n",
      "\n",
      "Here's the breakdown of the ATC codes:\n",
      "\n",
      "*   **N02AH02** - Ibuprofen\n",
      "*   **N02BE06** - Ibuprofen, combinations\n",
      "\n",
      "**DRUG 2: O=C(O)CCCC[C@@H]1CCSS1**\n",
      "\n",
      "This molecule represents **Nicotine**.\n",
      "\n",
      "Here’s the breakdown of the ATC codes:\n",
      "\n",
      "*   **N05AX01** - Nicotine\n",
      "\n",
      "---\n",
      "\n",
      "**Important Disclaimer:** *I am an AI Chatbot and not a medical professional. This information is based on my analysis of the provided SMILES strings.  ATC codes are assigned by regulatory bodies (WHO Collaborating Centre for Drug Statistics and Evaluation) and are subject to change. Always consult official ATC databases and a qualified healthcare professional for accurate drug information and classification.*\n",
      "\n",
      "**Resources for ATC Codes:**\n",
      "\n",
      "*   **ATC World Maintained Database:** [https://www.whocc.no/](https://www.whocc.no/)  (This is the official source)\n",
      "\n",
      "Do you have any other SMILES strings you’d like me to analyze?\n"
     ]
    }
   ],
   "source": [
    "from ollama import chat\n",
    "from ollama import ChatResponse\n",
    "\n",
    "response: ChatResponse = chat(model='gemma3', messages=[\n",
    "    {'role': 'user', 'content': 'Can you tell me the level 4 ATC code of a drug if I send you the SMILES?.'},\n",
    "    {'role': 'user', 'content': 'Here is one EXAMPLE: for this SMILES representation Cc1ncc(CO)c(CO)c1O the level 4 ATC codes are: A11HA; J04AC; J04AM; N05AL'},\n",
    "    {'role': 'user', 'content': 'DRUG 1: Cc1ncc(COP(=O)(O)O)c(C=O)c1O'},\n",
    "    {'role': 'user', 'content': 'DRUG 2: O=C(O)CCCC[C@@H]1CCSS1'}\n",
    "])\n",
    "\n",
    "print(response['message']['content'])"
   ]
  },
  {
   "cell_type": "code",
   "execution_count": 2,
   "id": "db53491c-c5aa-40d3-b782-6935ddf7be90",
   "metadata": {},
   "outputs": [
    {
     "name": "stdout",
     "output_type": "stream",
     "text": [
      "Okay, here are the Level 4 ATC codes for the drugs you requested:\n",
      "\n",
      "**DRUG 1: Pyridoxal phosphate**\n",
      "\n",
      "*   **A11HA03** \n",
      "\n",
      "**DRUG 2: Lipoic acid**\n",
      "\n",
      "*   **A11BA02** \n",
      "\n",
      "**Important Note:** ATC codes can sometimes have slight variations depending on the source and the specific country using them.  I've used the most commonly accepted codes based on the WHO ATC database.\n"
     ]
    }
   ],
   "source": [
    "response: ChatResponse = chat(model='gemma3', messages=[\n",
    "    {'role': 'user', 'content': 'Can you say me the level 4 ATC code of a drug if I send you the common name?. Here is one EXAMPLE: for Pyridoxine the level 4 ATC codes are: A11HA; J04AC; J04AM; N05AL'},\n",
    "    {'role': 'user', 'content': 'DRUG 1: Pyridoxal phosphate'},\n",
    "    {'role': 'user', 'content': 'DRUG 2: Lipoic acid'}\n",
    "])\n",
    "\n",
    "print(response['message']['content'])"
   ]
  },
  {
   "cell_type": "code",
   "execution_count": 3,
   "id": "c3ab0b8a-eeaf-412e-a8cc-c934d15ab567",
   "metadata": {},
   "outputs": [
    {
     "name": "stdout",
     "output_type": "stream",
     "text": [
      "Okay, here's a perfect prompt designed to get you the best possible response from me regarding ATC code identification based on SMILES representations, along with a strategy for testing me with diverse compounds:\n",
      "\n",
      "**The Prompt:**\n",
      "\n",
      "“I need your help identifying the Anatomical Therapeutic Chemical (ATC) code for a drug based on its SMILES representation. Please provide the SMILES string, and I will respond with the most likely ATC code(s) associated with that compound.  If multiple codes are applicable due to different indications or formulations, I will list all relevant codes.  To ensure accuracy, please return ONLY the ATC code(s) formatted as: `ATC Code(s): [ATC Code 1], [ATC Code 2], ...`.  I'll be testing you with a variety of compounds, including [mention your intention - e.g., 'newly synthesized molecules', 'common pharmaceuticals', 'a mix of prescription and over-the-counter drugs'].  Let's begin.  Please provide the SMILES string for the first compound.”\n",
      "\n",
      "**Why this is a perfect prompt:**\n",
      "\n",
      "* **Clear Instructions:** It explicitly states the task – identifying ATC codes from SMILES.\n",
      "* **Specific Formatting Request:**  Requiring the response in a particular format (`ATC Code(s): ...`) will make it easier for you to parse the output and evaluate my accuracy.\n",
      "* **Handling Multiple Codes:**  It acknowledges the possibility of multiple ATC codes, demonstrating my understanding of the task's complexity.\n",
      "* **Testing Context:**  Mentioning that you're testing me with various compounds helps me calibrate my responses to your specific requirements.  You can adjust this part to focus on a certain range of compounds.\n",
      "* **Starts with a Direct Question:** It immediately asks for the SMILES string, avoiding wasted time.\n",
      "\n",
      "\n",
      "**Strategy for Testing Me (with various compounds):**\n",
      "\n",
      "1. **Start Simple:** Begin with well-known drugs to establish a baseline accuracy.  Examples:\n",
      "   * `CC(=O)Oc1ccccc1C(=O)O` (Aspirin) – Should return `A02BC01`\n",
      "   * `CC(=O)Nc1ncnc2cncn(c2=N1)C` (Paracetamol) – Should return `N95AA02`\n",
      "   * `C=O` (Carbon Dioxide) – This is a tricky one and will help test the boundaries of my knowledge.\n",
      "\n",
      "2. **Increase Complexity:**\n",
      "   * **Chiral Compounds:**  `CC(=O)Oc1ccccc1C(=O)O` (Aspirin - enantiomer specific) - This tests if I correctly identify the specific enantiomer.\n",
      "   * **Compounds with Multiple Functional Groups:** Test with molecules like Ibuprofen.\n",
      "   * **Newer Drugs:**  Introduce compounds that might not be in my core knowledge base (but should still have available ATC codes).\n",
      "\n",
      "3. **Vary SMILES Representations:** Try different ways of representing the same molecule.  For example:\n",
      "    *  (same as above) `CC(=O)Oc1ccccc1C(=O)O`\n",
      "    *  `[O]CC(=O)Oc1ccccc1C(=O)[O]` (same as above)\n",
      "\n",
      "4. **Edge Cases:**\n",
      "   *  Simple molecules like Carbon Dioxide (as mentioned above)\n",
      "   *  Isomers\n",
      "   *  Compounds with rare indications.\n",
      "\n",
      "5. **Record Your Results:** Keep a log of each SMILES input and my response. This is *crucial* for evaluating my performance over time.\n",
      "\n",
      "**Important Note:** I am a large language model, and my knowledge of drug information and ATC codes is based on the data I was trained on, which has a cutoff date.  I might not always be 100% accurate, particularly for very new drugs or niche indications.  Always verify my responses with authoritative sources (e.g., the official ATC classification database: [https://www.who.int/medicinalproducts/datatools/atc](https://www.who.int/medicinalproducts/datatools/atc)).\n",
      "\n",
      "Let's start with your first SMILES representation.  Please provide it now!\n",
      "\n"
     ]
    }
   ],
   "source": [
    "response: ChatResponse = chat(model='gemma3', messages=[\n",
    "    {'role': 'user', 'content': 'Can you give me an example of a perfect prompt for me to ask to you to say me the level 4 ATC code of a drug if I send you the SMILES representation? And I want to test you in this task with various compounds.'},\n",
    "])\n",
    "\n",
    "print(response['message']['content'])"
   ]
  },
  {
   "cell_type": "code",
   "execution_count": 4,
   "id": "a1586dbe-060a-4d74-9be1-e9c940900a7f",
   "metadata": {},
   "outputs": [
    {
     "name": "stdout",
     "output_type": "stream",
     "text": [
      "The ATC code for the chemical compound represented by the SMILES string NCCC[C@H](N)C(=O)O is **N02AB01**.\n",
      "\n",
      "This compound is **Paracetamol** (Acetaminophen).\n",
      "\n"
     ]
    }
   ],
   "source": [
    "response: ChatResponse = chat(model='gemma3', messages=[\n",
    "    {'role': 'user', 'content': 'Please provide the ATC code for the following chemical compound, represented by its SMILES string: NCCC[C@H](N)C(=O)O'},\n",
    "])\n",
    "\n",
    "print(response['message']['content'])"
   ]
  },
  {
   "cell_type": "code",
   "execution_count": 5,
   "id": "12ac3f66-71a1-43bd-90e3-8d91168db431",
   "metadata": {},
   "outputs": [
    {
     "name": "stdout",
     "output_type": "stream",
     "text": [
      "The ATC code for the chemical compound represented by the SMILES string NCCC[C@H](N)C(O)=O is **A12AE01**.\n",
      "\n",
      "This corresponds to **Acetaminophen** (Paracetamol).\n",
      "\n",
      "Here's a breakdown of how I arrived at this answer:\n",
      "\n",
      "*   **SMILES String:** NCCC[C@H](N)C(O)=O\n",
      "*   **Chemical Name:** This SMILES string represents Acetaminophen (also known as Paracetamol).\n",
      "\n",
      "ATC codes are organized by organ system and therapeutic category. Acetaminophen falls under:\n",
      "*   **A - Alcohols, Muscles, Skeleton, and Tissues**\n",
      "*   **A12 - Analgesics and antipyretics**\n",
      "*   **A12AE01 - Acetaminophen**\n"
     ]
    }
   ],
   "source": [
    "response: ChatResponse = chat(model='gemma3', messages=[\n",
    "    {'role': 'user', 'content': 'Please provide the ATC code for the following chemical compound, represented by its SMILES string: NCCC[C@H](N)C(O)=O'},\n",
    "]) # Ornithine - A05BA\n",
    "\n",
    "print(response['message']['content'])"
   ]
  },
  {
   "cell_type": "code",
   "execution_count": 7,
   "id": "febdbf72-c2e7-4efc-b07b-51947b823ec7",
   "metadata": {},
   "outputs": [
    {
     "name": "stdout",
     "output_type": "stream",
     "text": [
      "ATC Code(s): A95CA01\n"
     ]
    }
   ],
   "source": [
    "response: ChatResponse = chat(model='gemma3', messages=[\n",
    "    {'role': 'user', 'content': 'I need your help identifying the Anatomical Therapeutic Chemical (ATC) code for a drug based on its SMILES representation. Please respond with the most likely ATC code(s) associated with that compound.  If multiple codes are applicable due to different indications or formulations, list all relevant codes. To ensure accuracy, please return ONLY the ATC code(s) formatted as: `ATC Code(s): [ATC Code 1], [ATC Code 2], ...`.'},\n",
    "    {'role': 'user', 'content': 'Cc1ncc(C[n+]2csc(CCO)c2C)c(N)n1'},\n",
    "]) # Thiamine A11DA\n",
    "\n",
    "print(response['message']['content'])"
   ]
  },
  {
   "cell_type": "code",
   "execution_count": 8,
   "id": "26508d72-179a-4e25-8cd1-a2162eca550a",
   "metadata": {},
   "outputs": [
    {
     "name": "stdout",
     "output_type": "stream",
     "text": [
      "ATC Code(s): A01AA08, A01DB01\n"
     ]
    }
   ],
   "source": [
    "response: ChatResponse = chat(model='gemma3', messages=[\n",
    "    {'role': 'user', 'content': 'I need your help identifying the Anatomical Therapeutic Chemical (ATC) code for a drug based on its SMILES representation. Please respond with the most likely ATC code(s) associated with that compound.  If multiple codes are applicable due to different indications or formulations, list all relevant codes. To ensure accuracy, please return ONLY the ATC code(s) formatted as: `ATC Code(s): [ATC Code 1], [ATC Code 2], ...`.'},\n",
    "    {'role': 'user', 'content': 'OC(Cn1cncn1)(Cn1cncn1)c1ccc(F)cc1F'},\n",
    "]) # Fluconazole D01AC; J01RA; J02AC\n",
    "\n",
    "print(response['message']['content'])"
   ]
  },
  {
   "cell_type": "code",
   "execution_count": 9,
   "id": "158741ff-cbb8-478d-b337-f2e253ee5a2f",
   "metadata": {},
   "outputs": [
    {
     "name": "stdout",
     "output_type": "stream",
     "text": [
      "ATC Code(s): J02AC01\n"
     ]
    }
   ],
   "source": [
    "response: ChatResponse = chat(model='gemma3', messages=[\n",
    "    {'role': 'user', 'content': 'I need your help identifying the Anatomical Therapeutic Chemical (ATC) code for a drug based on its SMILES representation. Please respond with the most likely ATC code(s) associated with that compound. If multiple codes are applicable due to different indications or formulations, list all relevant codes. To ensure accuracy, please return ONLY the ATC code(s) formatted as: `ATC Code(s): [ATC Code 1], [ATC Code 2], ...`.'},\n",
    "    {'role': 'user', 'content': 'Fluconazole - OC(Cn1cncn1)(Cn1cncn1)c1ccc(F)cc1F'},\n",
    "]) # Fluconazole D01AC; J01RA; J02AC\n",
    "\n",
    "print(response['message']['content'])"
   ]
  },
  {
   "cell_type": "code",
   "execution_count": 13,
   "id": "b89ff75d-33bb-4891-90f6-6501cd42cf76",
   "metadata": {},
   "outputs": [
    {
     "name": "stdout",
     "output_type": "stream",
     "text": [
      "ATC Code(s): J02AC01\n",
      "\n"
     ]
    }
   ],
   "source": [
    "response: ChatResponse = chat(model='gemma3', messages=[\n",
    "    {'role': 'user', 'content': 'I need your help identifying the Anatomical Therapeutic Chemical (ATC) code of level 4 for a drug based on its SMILES representation. Please respond with the most likely ATC code(s) associated with that compound. If multiple codes are applicable due to different indications or formulations, list all relevant codes. To ensure accuracy, please return ONLY the ATC code(s) formatted as: `ATC Code(s): [ATC Code 1], [ATC Code 2], ...`.'},\n",
    "    {'role': 'user', 'content': 'Fluconazole - OC(Cn1cncn1)(Cn1cncn1)c1ccc(F)cc1F'},\n",
    "]) # Fluconazole D01AC; J01RA; J02AC\n",
    "\n",
    "print(response['message']['content'])"
   ]
  },
  {
   "cell_type": "code",
   "execution_count": 12,
   "id": "26f1e7ca-4865-4fb4-832d-29f695707d41",
   "metadata": {},
   "outputs": [
    {
     "name": "stdout",
     "output_type": "stream",
     "text": [
      "ATC Code(s): A11AA, A11BA\n"
     ]
    }
   ],
   "source": [
    "response: ChatResponse = chat(model='gemma3', messages=[\n",
    "    {'role': 'user', 'content': 'I need your help identifying the Anatomical Therapeutic Chemical (ATC) code of level 4 for a drug based on its SMILES representation. Please respond with the most likely ATC code(s) associated with that compound. If multiple codes are applicable due to different indications or formulations, list all relevant codes. To ensure accuracy, please return ONLY the ATC code(s) formatted as: `ATC Code(s): [ATC Code 1], [ATC Code 2], ...`.'},\n",
    "    {'role': 'user', 'content': 'Thiamine - Cc1ncc(C[n+]2csc(CCO)c2C)c(N)n1'},\n",
    "]) # Thiamine A11DA\n",
    "\n",
    "print(response['message']['content'])"
   ]
  },
  {
   "cell_type": "code",
   "execution_count": 1,
   "id": "edaabbd7-06fb-42c5-ad55-ddca984b8823",
   "metadata": {},
   "outputs": [
    {
     "name": "stdout",
     "output_type": "stream",
     "text": [
      "A07AA\n"
     ]
    }
   ],
   "source": [
    "from ollama import chat\n",
    "from ollama import ChatResponse\n",
    "\n",
    "# Realiza una consulta al modelo local de Ollama\n",
    "response: ChatResponse = chat(model='gemma3', messages=[\n",
    "    {'role': 'user', 'content': 'Can you say me the level 4 ATC code of a drug if I send you the SMILES?'},\n",
    "    {'role': 'user', 'content': 'SMILES: CC[C@H](C)[C@H](NC(=O)[C@H](CCC(=O)O)NC(=O)[C@H](CCC(=O)O)NC(=O)[C@H](Cc1ccccc1)NC(=O)[C@H](CC(=O)O)NC(=O)CNC(=O)[C@H](CC(N)=O)NC(=O)CNC(=O)CNC(=O)CNC(=O)CNC(=O)[C@@H]1CCCN1C(=O)[C@H](CCCNC(=N)N)NC(=O)[C@@H]1CCCN1C(=O)[C@H](N)Cc1ccccc1)C(=O)N1CCC[C@H]1C(=O)N[C@@H](CCC(=O)O)C(=O)N[C@@H](CCC(=O)O)C(=O)N[C@@H](Cc1ccc(O)cc1)C(=O)N[C@@H](CC(C)C)C(=O)O'},\n",
    "    {'role': 'assistant', 'content': 'B01AE'},\n",
    "    {'role': 'user', 'content': 'SMILES: C/C=C/C[C@@H](C)[C@@H](O)[C@H]1C(=O)N[C@@H](CC)C(=O)N(C)CC(=O)N(C)[C@@H](CC(C)C)C(=O)N[C@@H](C(C)C)C(=O)N(C)[C@@H](CC(C)C)C(=O)N[C@@H](C)C(=O)N[C@H](C)C(=O)N(C)[C@@H](CC(C)C)C(=O)N(C)[C@@H](CC(C)C)C(=O)N(C)[C@@H](C(C)C)C(=O)N1C'},\n",
    "    {'role': 'assistant', 'content': 'L04AD, S01XA'},\n",
    "    {'role': 'user', 'content': 'SMILES: Cc1cc2nc3c(=O)[nH]c(=O)nc-3n(C[C@H](O)[C@H](O)[C@H](O)CO)c2cc1C'},\n",
    "    {'role': 'assistant', 'content': 'A11HA, S01XA'},\n",
    "    {'role': 'user', 'content': 'SMILES: C=C1CC[C@H](O)C/C1=C/C=C1\\\\CCC[C@]2(C)[C@@H]([C@H](C)/C=C/[C@H](C)C(C)C)CC[C@@H]12'},\n",
    "    {'role': 'assistant', 'content':  'A11CC'},\n",
    "    {'role': 'user', 'content': 'SMILES: O=C(O)CCCC[C@@H]1CCSS1'}, # Lipoic acid - A16AX\n",
    "])\n",
    "\n",
    "# Imprime la respuesta\n",
    "print(response['message']['content'])"
   ]
  },
  {
   "cell_type": "code",
   "execution_count": 2,
   "id": "456fc4c4-199f-4b00-9106-67a723e34559",
   "metadata": {},
   "outputs": [
    {
     "name": "stdout",
     "output_type": "stream",
     "text": [
      "A11HA\n"
     ]
    }
   ],
   "source": [
    "response: ChatResponse = chat(model='gemma3', messages=[\n",
    "    {'role': 'user', 'content': 'Can you say me the level 4 ATC code of a drug if I send you the SMILES?'},\n",
    "    {'role': 'user', 'content': 'SMILES: CC[C@H](C)[C@H](NC(=O)[C@H](CCC(=O)O)NC(=O)[C@H](CCC(=O)O)NC(=O)[C@H](Cc1ccccc1)NC(=O)[C@H](CC(=O)O)NC(=O)CNC(=O)[C@H](CC(N)=O)NC(=O)CNC(=O)CNC(=O)CNC(=O)CNC(=O)[C@@H]1CCCN1C(=O)[C@H](CCCNC(=N)N)NC(=O)[C@@H]1CCCN1C(=O)[C@H](N)Cc1ccccc1)C(=O)N1CCC[C@H]1C(=O)N[C@@H](CCC(=O)O)C(=O)N[C@@H](CCC(=O)O)C(=O)N[C@@H](Cc1ccc(O)cc1)C(=O)N[C@@H](CC(C)C)C(=O)O'},\n",
    "    {'role': 'assistant', 'content': 'B01AE'},\n",
    "    {'role': 'user', 'content': 'SMILES: C/C=C/C[C@@H](C)[C@@H](O)[C@H]1C(=O)N[C@@H](CC)C(=O)N(C)CC(=O)N(C)[C@@H](CC(C)C)C(=O)N[C@@H](C(C)C)C(=O)N(C)[C@@H](CC(C)C)C(=O)N[C@@H](C)C(=O)N[C@H](C)C(=O)N(C)[C@@H](CC(C)C)C(=O)N(C)[C@@H](CC(C)C)C(=O)N(C)[C@@H](C(C)C)C(=O)N1C'},\n",
    "    {'role': 'assistant', 'content': 'L04AD, S01XA'},\n",
    "    {'role': 'user', 'content': 'SMILES: Cc1cc2nc3c(=O)[nH]c(=O)nc-3n(C[C@H](O)[C@H](O)[C@H](O)CO)c2cc1C'},\n",
    "    {'role': 'assistant', 'content': 'A11HA, S01XA'},\n",
    "    {'role': 'user', 'content': 'SMILES: C=C1CC[C@H](O)C/C1=C/C=C1\\\\CCC[C@]2(C)[C@@H]([C@H](C)/C=C/[C@H](C)C(C)C)CC[C@@H]12'},\n",
    "    {'role': 'assistant', 'content':  'A11CC'},\n",
    "    {'role': 'user', 'content': 'SMILES: Cc1ncc(C[n+]2csc(CCO)c2C)c(N)n1'}, # Thioamine - A11DA\n",
    "])\n",
    "\n",
    "print(response['message']['content'])"
   ]
  },
  {
   "cell_type": "code",
   "execution_count": 4,
   "id": "46a1d0d6-cdf5-434a-ab76-3127def6a68e",
   "metadata": {},
   "outputs": [
    {
     "name": "stdout",
     "output_type": "stream",
     "text": [
      "B01AA\n"
     ]
    }
   ],
   "source": [
    "response: ChatResponse = chat(model='gemma3', messages=[\n",
    "    {'role': 'user', 'content': 'Can you say me the level 4 ATC code of a drug if I send you the SMILES?'},\n",
    "    {'role': 'user', 'content': 'SMILES: CC[C@H](C)[C@H](NC(=O)[C@H](CCC(=O)O)NC(=O)[C@H](CCC(=O)O)NC(=O)[C@H](Cc1ccccc1)NC(=O)[C@H](CC(=O)O)NC(=O)CNC(=O)[C@H](CC(N)=O)NC(=O)CNC(=O)CNC(=O)CNC(=O)CNC(=O)[C@@H]1CCCN1C(=O)[C@H](CCCNC(=N)N)NC(=O)[C@@H]1CCCN1C(=O)[C@H](N)Cc1ccccc1)C(=O)N1CCC[C@H]1C(=O)N[C@@H](CCC(=O)O)C(=O)N[C@@H](CCC(=O)O)C(=O)N[C@@H](Cc1ccc(O)cc1)C(=O)N[C@@H](CC(C)C)C(=O)O'},\n",
    "    {'role': 'assistant', 'content': 'B01AE'},\n",
    "    {'role': 'user', 'content': 'SMILES: C/C=C/C[C@@H](C)[C@@H](O)[C@H]1C(=O)N[C@@H](CC)C(=O)N(C)CC(=O)N(C)[C@@H](CC(C)C)C(=O)N[C@@H](C(C)C)C(=O)N(C)[C@@H](CC(C)C)C(=O)N[C@@H](C)C(=O)N[C@H](C)C(=O)N(C)[C@@H](CC(C)C)C(=O)N(C)[C@@H](CC(C)C)C(=O)N(C)[C@@H](C(C)C)C(=O)N1C'},\n",
    "    {'role': 'assistant', 'content': 'L04AD, S01XA'},\n",
    "    {'role': 'user', 'content': 'SMILES: Cc1cc2nc3c(=O)[nH]c(=O)nc-3n(C[C@H](O)[C@H](O)[C@H](O)CO)c2cc1C'},\n",
    "    {'role': 'assistant', 'content': 'A11HA, S01XA'},\n",
    "    {'role': 'user', 'content': 'SMILES: C=C1CC[C@H](O)C/C1=C/C=C1\\\\CCC[C@]2(C)[C@@H]([C@H](C)/C=C/[C@H](C)C(C)C)CC[C@@H]12'},\n",
    "    {'role': 'assistant', 'content':  'A11CC'},\n",
    "    {'role': 'user', 'content': 'SMILES: Cc1cc2nc3c(=O)[nH]c(=O)nc-3n(C[C@H](O)[C@H](O)[C@H](O)CO)c2cc1C'}, # Riboflavin - A11HA; S01XA\n",
    "\n",
    "])\n",
    "\n",
    "print(response['message']['content'])"
   ]
  },
  {
   "cell_type": "code",
   "execution_count": 2,
   "id": "2e669c93-3c8e-4bc2-89e2-17bb61d91bc6",
   "metadata": {},
   "outputs": [
    {
     "name": "stdout",
     "output_type": "stream",
     "text": [
      "ATC CODE: A11EA\n",
      "\n"
     ]
    }
   ],
   "source": [
    "from ollama import chat\n",
    "from ollama import ChatResponse\n",
    "\n",
    "# Realiza una consulta al modelo local de Ollama\n",
    "response: ChatResponse = chat(model='gemma3', messages=[\n",
    "    {'role': 'user', 'content': 'Can you say me the level 4 ATC code of a drug if I send you the SMILES?. I send you a some examples.'},\n",
    "    {'role': 'user', 'content': 'SMILES: CC[C@H](C)[C@H](NC(=O)[C@H](CCC(=O)O)NC(=O)[C@H](CCC(=O)O)NC(=O)[C@H](Cc1ccccc1)NC(=O)[C@H](CC(=O)O)NC(=O)CNC(=O)[C@H](CC(N)=O)NC(=O)CNC(=O)CNC(=O)CNC(=O)CNC(=O)[C@@H]1CCCN1C(=O)[C@H](CCCNC(=N)N)NC(=O)[C@@H]1CCCN1C(=O)[C@H](N)Cc1ccccc1)C(=O)N1CCC[C@H]1C(=O)N[C@@H](CCC(=O)O)C(=O)N[C@@H](CCC(=O)O)C(=O)N[C@@H](Cc1ccc(O)cc1)C(=O)N[C@@H](CC(C)C)C(=O)O'},\n",
    "    {'role': 'user', 'content': 'ATC CODE: B01AE'},\n",
    "    {'role': 'user', 'content': 'SMILES: C/C=C/C[C@@H](C)[C@@H](O)[C@H]1C(=O)N[C@@H](CC)C(=O)N(C)CC(=O)N(C)[C@@H](CC(C)C)C(=O)N[C@@H](C(C)C)C(=O)N(C)[C@@H](CC(C)C)C(=O)N[C@@H](C)C(=O)N[C@H](C)C(=O)N(C)[C@@H](CC(C)C)C(=O)N(C)[C@@H](CC(C)C)C(=O)N(C)[C@@H](C(C)C)C(=O)N1C'},\n",
    "    {'role': 'user', 'content': 'ATC CODE: L04AD, S01XA'},\n",
    "    {'role': 'user', 'content': 'SMILES: Cc1cc2nc3c(=O)[nH]c(=O)nc-3n(C[C@H](O)[C@H](O)[C@H](O)CO)c2cc1C'},\n",
    "    {'role': 'user', 'content': 'ATC CODE: A11HA, S01XA'},\n",
    "    {'role': 'user', 'content': 'SMILES: C=C1CC[C@H](O)C/C1=C/C=C1\\\\CCC[C@]2(C)[C@@H]([C@H](C)/C=C/[C@H](C)C(C)C)CC[C@@H]12'},\n",
    "    {'role': 'user', 'content':  'ATC CODE: A11CC. Now it is your turn.'},\n",
    "    {'role': 'user', 'content': 'SMILES: O=C(O)CCCC[C@@H]1CCSS1'}, \n",
    "])\n",
    "\n",
    "# Imprime la respuesta\n",
    "print(response['message']['content'])"
   ]
  },
  {
   "cell_type": "code",
   "execution_count": null,
   "id": "874ac493-47ac-4d16-a6d8-5d291fd4848c",
   "metadata": {},
   "outputs": [],
   "source": []
  }
 ],
 "metadata": {
  "kernelspec": {
   "display_name": "Python 3 (ipykernel)",
   "language": "python",
   "name": "python3"
  },
  "language_info": {
   "codemirror_mode": {
    "name": "ipython",
    "version": 3
   },
   "file_extension": ".py",
   "mimetype": "text/x-python",
   "name": "python",
   "nbconvert_exporter": "python",
   "pygments_lexer": "ipython3",
   "version": "3.12.4"
  }
 },
 "nbformat": 4,
 "nbformat_minor": 5
}
