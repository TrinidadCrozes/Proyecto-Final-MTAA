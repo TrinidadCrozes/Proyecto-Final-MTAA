{
 "cells": [
  {
   "cell_type": "markdown",
   "id": "4823a231-e84a-4612-8391-b2713559d0f7",
   "metadata": {},
   "source": []
  },
  {
   "cell_type": "code",
   "execution_count": 8,
   "id": "338a44aa-e2ad-4bcf-afa4-849f7fe234bc",
   "metadata": {},
   "outputs": [
    {
     "name": "stdout",
     "output_type": "stream",
     "text": [
      "The SMILES representation \"Cc1ncc(COP(=O)(O)O)c(C=O)c1O\" corresponds to the following level 4 ATC codes:\n",
      "\n",
      "J05BA01; J05BA02 \n",
      "\n",
      "Note: ATC classification is subject to periodic review and revision by the WHO. These codes are accurate as of my knowledge cutoff but may be outdated or superseded in newer classifications.\n",
      "\n",
      "Is there anything else I can help you with?\n"
     ]
    }
   ],
   "source": [
    "from ollama import chat\n",
    "from ollama import ChatResponse\n",
    "\n",
    "response: ChatResponse = chat(model='llama3.1', messages=[\n",
    "    {'role': 'user', 'content': 'Can you tell me the level 4 ATC code of a drug if I send you the SMILES?'},\n",
    "    {'role': 'user', 'content': 'Here is one EXAMPLE: for this SMILES representation Cc1ncc(CO)c(CO)c1O the level 4 ATC codes are: A11HA; J04AC; J04AM; N05AL'},\n",
    "    {'role': 'user', 'content': 'DRUG: Cc1ncc(COP(=O)(O)O)c(C=O)c1O'},\n",
    "])\n",
    "\n",
    "print(response['message']['content'])\n"
   ]
  },
  {
   "cell_type": "code",
   "execution_count": 3,
   "id": "db53491c-c5aa-40d3-b782-6935ddf7be90",
   "metadata": {},
   "outputs": [
    {
     "name": "stdout",
     "output_type": "stream",
     "text": [
      "Based on my knowledge, here are the Level 4 ATC codes for each of the drugs you listed:\n",
      "\n",
      "* Pyridoxal phosphate:\n",
      "\t+ A11HA\n",
      "\t+ B03BA\n",
      "\t+ N05AL (same as Pyridoxine)\n",
      "* Lipoic acid:\n",
      "\t+ C10AX\n"
     ]
    }
   ],
   "source": [
    "response: ChatResponse = chat(model='llama3.1', messages=[\n",
    "    {'role': 'user', 'content': 'Can you tell me the level 4 ATC code of a drug if I send you the common name?'},\n",
    "    {'role': 'user', 'content': 'Here is one EXAMPLE: for Pyridoxine the level 4 ATC codes are: A11HA; J04AC; J04AM; N05AL'},\n",
    "    {'role': 'user', 'content': 'DRUG 1: Pyridoxal phosphate'},\n",
    "    {'role': 'user', 'content': 'DRUG 2: Lipoic acid'}\n",
    "])\n",
    "\n",
    "print(response['message']['content'])"
   ]
  },
  {
   "cell_type": "code",
   "execution_count": 4,
   "id": "c3ab0b8a-eeaf-412e-a8cc-c934d15ab567",
   "metadata": {},
   "outputs": [
    {
     "name": "stdout",
     "output_type": "stream",
     "text": [
      "Okay, here's a prompt designed to get you the best level 4 ATC code based on a SMILES string, and it includes instructions for testing with diverse compounds:\n",
      "\n",
      "**Prompt:**\n",
      "\n",
      "\"I need you to identify the Level 4 ATC (Anatomical Therapeutic Chemical) code for a given drug compound. Please respond ONLY with the ATC code. \n",
      "\n",
      "**Here’s how to use me:**\n",
      "\n",
      "1.  **Provide the SMILES representation of the drug.** (Example:  `CCO` for Acetaminophen)\n",
      "2.  **I will then respond with the most likely Level 4 ATC code for that compound.** \n",
      "\n",
      "**Important Notes:**\n",
      "\n",
      "*   Be as precise as possible with the SMILES string.  Minor variations can sometimes lead to different codes.\n",
      "*   I will strive for the most common or standard ATC code.  There may be other valid options, but I will prioritize the primary one.\n",
      "*   Don't include any conversational elements or explanations beyond the ATC code itself. Just give me the code.\n",
      "*  If you are unsure of the response, just say 'Unsure'\n",
      "\n",
      "**Let's start!  Please provide the SMILES representation of the first drug you want me to analyze.**\"\n",
      "\n",
      "---\n",
      "\n",
      "**Why this is a good prompt:**\n",
      "\n",
      "*   **Clear Instructions:**  It explicitly tells you *exactly* what you want me to do.\n",
      "*   **Specific Output Format:**  Requiring only the ATC code reduces ambiguity and ensures I don't add unnecessary information.\n",
      "*   **Error Reduction:**  The 'Important Notes' section reminds you to be precise with the SMILES string.\n",
      "*   **Testing Framework:**  It’s designed to allow you to easily test my accuracy by sending me a range of compounds.\n",
      "\n",
      "---\n",
      "\n",
      "**Now, let’s test it! Send me the SMILES representation of a drug (e.g., `CCO`, `C1CCCCC1`, `CC(=O)Oc1ccccc1C(=O)O`) to begin.**  I’m ready when you are.  I'll do my best to provide accurate ATC codes.  Let’s see how I perform!\n"
     ]
    }
   ],
   "source": [
    "# Realiza una consulta al modelo local de Ollama\n",
    "response: ChatResponse = chat(model='gemma3', messages=[\n",
    "    {'role': 'user', 'content': 'Can you give me an example of a perfect prompt for me to ask to you to say me the level 4 ATC code of a drug if I send you the SMILES representation? And I want to test you in this task with various compounds.'},\n",
    "])\n",
    "\n",
    "# Imprime la respuesta\n",
    "print(response['message']['content'])"
   ]
  },
  {
   "cell_type": "code",
   "execution_count": 5,
   "id": "a1586dbe-060a-4d74-9be1-e9c940900a7f",
   "metadata": {},
   "outputs": [
    {
     "name": "stdout",
     "output_type": "stream",
     "text": [
      "The ATC code for the chemical compound represented by the SMILES string NCCC[C@H](N)C(=O)O is **N03AA09**.\n",
      "\n",
      "This compound is **Paracetamol** (also known as Acetaminophen).\n",
      "\n",
      "Here's a breakdown of why:\n",
      "\n",
      "*   **N:**  Non-prescription analgesics and antipyretics\n",
      "*   **N03:**  Analgesics (pain relievers)\n",
      "*   **N03A:**  Simple analgesics\n",
      "*   **N03AA:**  Paracetamol\n",
      "*   **N03AA09:** Paracetamol\n",
      "\n",
      "You can verify this information on the ATC Index website: [https://www.whocc.no/atc/](https://www.whocc.no/atc/)\n"
     ]
    }
   ],
   "source": [
    "# Realiza una consulta al modelo local de Ollama\n",
    "response: ChatResponse = chat(model='gemma3', messages=[\n",
    "    {'role': 'user', 'content': 'Please provide the ATC code for the following chemical compound, represented by its SMILES string: NCCC[C@H](N)C(=O)O'},\n",
    "])\n",
    "\n",
    "# Imprime la respuesta\n",
    "print(response['message']['content'])"
   ]
  },
  {
   "cell_type": "code",
   "execution_count": 6,
   "id": "12ac3f66-71a1-43bd-90e3-8d91168db431",
   "metadata": {},
   "outputs": [
    {
     "name": "stdout",
     "output_type": "stream",
     "text": [
      "The ATC code for the chemical compound represented by the SMILES string NCCC[C@H](N)C(O)=O is **A12AE01**.\n",
      "\n",
      "This corresponds to **Paracetamol (Acetaminophen)**.\n",
      "\n",
      "Here's a breakdown of why:\n",
      "\n",
      "*   **NCCC[C@H](N)C(O)=O** is the SMILES string for Paracetamol.\n",
      "*   **A12** is the therapeutic code for analgesics and antipyretics.\n",
      "*   **A12AE01** is the specific ATC code for Paracetamol.\n",
      "\n",
      "You can verify this on the official ATC Index website: [https://www.whocc.no/atc/](https://www.whocc.no/atc/)\n"
     ]
    }
   ],
   "source": [
    "# Realiza una consulta al modelo local de Ollama\n",
    "response: ChatResponse = chat(model='gemma3', messages=[\n",
    "    {'role': 'user', 'content': 'Please provide the ATC code for the following chemical compound, represented by its SMILES string: NCCC[C@H](N)C(O)=O'},\n",
    "])\n",
    "\n",
    "# Imprime la respuesta\n",
    "print(response['message']['content'])"
   ]
  },
  {
   "cell_type": "code",
   "execution_count": 6,
   "id": "febdbf72-c2e7-4efc-b07b-51947b823ec7",
   "metadata": {},
   "outputs": [
    {
     "name": "stdout",
     "output_type": "stream",
     "text": [
      "I can provide you with the ATC (Anatomical Therapeutic Chemical Classification System) code for a given drug based on its SMILES notation.\n",
      "\n",
      "After analyzing your provided SMILES, I found that:\n",
      "\n",
      "- Cc1ncc(COP(=O)(O)O)c(C=O)c1O corresponds to S01AX\n",
      "- O=C(O)CCCC[C@@H]1CCSS1 corresponds to A12AA\n"
     ]
    }
   ],
   "source": [
    "from ollama import chat\n",
    "from ollama import ChatResponse\n",
    "\n",
    "# Realiza una consulta al modelo local de Ollama\n",
    "response: ChatResponse = chat(model='llama3.1', messages=[\n",
    "    {'role': 'user', 'content': 'Can you say me the level 4 ATC code of a drug if I send you the SMILES?'},\n",
    "    {'role': 'user', 'content': 'Here are some examples: SMILES: CC[C@H](C)[C@H](NC(=O)[C@H](CCC(=O)O)NC(=O)[C@H](CCC(=O)O)NC(=O)[C@H](Cc1ccccc1)NC(=O)[C@H](CC(=O)O)NC(=O)CNC(=O)[C@H](CC(N)=O)NC(=O)CNC(=O)CNC(=O)CNC(=O)CNC(=O)[C@@H]1CCCN1C(=O)[C@H](CCCNC(=N)N)NC(=O)[C@@H]1CCCN1C(=O)[C@H](N)Cc1ccccc1)C(=O)N1CCC[C@H]1C(=O)N[C@@H](CCC(=O)O)C(=O)N[C@@H](CCC(=O)O)C(=O)N[C@@H](Cc1ccc(O)cc1)C(=O)N[C@@H](CC(C)C)C(=O)O Answer: B01AE - SMILES: C/C=C/C[C@@H](C)[C@@H](O)[C@H]1C(=O)N[C@@H](CC)C(=O)N(C)CC(=O)N(C)[C@@H](CC(C)C)C(=O)N[C@@H](C(C)C)C(=O)N(C)[C@@H](CC(C)C)C(=O)N[C@@H](C)C(=O)N[C@H](C)C(=O)N(C)[C@@H](CC(C)C)C(=O)N(C)[C@@H](CC(C)C)C(=O)N(C)[C@@H](C(C)C)C(=O)N1C Answer: L04AD, S01XA - SMILES: Cc1cc2nc3c(=O)[nH]c(=O)nc-3n(C[C@H](O)[C@H](O)[C@H](O)CO)c2cc1C Answer: A11HA, S01XA SMILES: C=C1CC[C@H](O)C/C1=C/C=C1\\\\CCC[C@]2(C)[C@@H]([C@H](C)/C=C/[C@H](C)C(C)C)CC[C@@H]12 Answer: A11CC'},\n",
    "    {'role': 'user', 'content': 'SMILES: Cc1ncc(COP(=O)(O)O)c(C=O)c1O'},\n",
    "    {'role': 'user', 'content': 'SMILES: O=C(O)CCCC[C@@H]1CCSS1'}\n",
    "])\n",
    "\n",
    "# Imprime la respuesta\n",
    "print(response['message']['content'])\n"
   ]
  },
  {
   "cell_type": "code",
   "execution_count": 7,
   "id": "5ab9bf38-7227-469a-8af9-b3f32b310ffa",
   "metadata": {},
   "outputs": [
    {
     "name": "stdout",
     "output_type": "stream",
     "text": [
      "V03AF\n"
     ]
    }
   ],
   "source": [
    "from ollama import chat\n",
    "from ollama import ChatResponse\n",
    "\n",
    "# Realiza una consulta al modelo local de Ollama\n",
    "response: ChatResponse = chat(model='llama3.1', messages=[\n",
    "    {'role': 'user', 'content': 'Can you say me the level 4 ATC code of a drug if I send you the SMILES?'},\n",
    "    {'role': 'user', 'content': 'SMILES: CC[C@H](C)[C@H](NC(=O)[C@H](CCC(=O)O)NC(=O)[C@H](CCC(=O)O)NC(=O)[C@H](Cc1ccccc1)NC(=O)[C@H](CC(=O)O)NC(=O)CNC(=O)[C@H](CC(N)=O)NC(=O)CNC(=O)CNC(=O)CNC(=O)CNC(=O)[C@@H]1CCCN1C(=O)[C@H](CCCNC(=N)N)NC(=O)[C@@H]1CCCN1C(=O)[C@H](N)Cc1ccccc1)C(=O)N1CCC[C@H]1C(=O)N[C@@H](CCC(=O)O)C(=O)N[C@@H](CCC(=O)O)C(=O)N[C@@H](Cc1ccc(O)cc1)C(=O)N[C@@H](CC(C)C)C(=O)O'},\n",
    "    {'role': 'assistant', 'content': 'B01AE'},\n",
    "    {'role': 'user', 'content': 'SMILES: C/C=C/C[C@@H](C)[C@@H](O)[C@H]1C(=O)N[C@@H](CC)C(=O)N(C)CC(=O)N(C)[C@@H](CC(C)C)C(=O)N[C@@H](C(C)C)C(=O)N(C)[C@@H](CC(C)C)C(=O)N[C@@H](C)C(=O)N[C@H](C)C(=O)N(C)[C@@H](CC(C)C)C(=O)N(C)[C@@H](CC(C)C)C(=O)N(C)[C@@H](C(C)C)C(=O)N1C'},\n",
    "    {'role': 'assistant', 'content': 'L04AD, S01XA'},\n",
    "    {'role': 'user', 'content': 'SMILES: Cc1cc2nc3c(=O)[nH]c(=O)nc-3n(C[C@H](O)[C@H](O)[C@H](O)CO)c2cc1C'},\n",
    "    {'role': 'assistant', 'content': 'A11HA, S01XA'},\n",
    "    {'role': 'user', 'content': 'SMILES: C=C1CC[C@H](O)C/C1=C/C=C1\\\\CCC[C@]2(C)[C@@H]([C@H](C)/C=C/[C@H](C)C(C)C)CC[C@@H]12'},\n",
    "    {'role': 'assistant', 'content':  'A11CC'},\n",
    "    {'role': 'user', 'content': 'SMILES: Cc1ncc(COP(=O)(O)O)c(C=O)c1O'},\n",
    "])\n",
    "\n",
    "# Imprime la respuesta\n",
    "print(response['message']['content'])"
   ]
  },
  {
   "cell_type": "code",
   "execution_count": 11,
   "id": "571cd32f-5bf9-49d8-9427-4aeb94ea1aaf",
   "metadata": {},
   "outputs": [
    {
     "name": "stdout",
     "output_type": "stream",
     "text": [
      "S01EB\n"
     ]
    }
   ],
   "source": [
    "from ollama import chat\n",
    "from ollama import ChatResponse\n",
    "\n",
    "# Realiza una consulta al modelo local de Ollama\n",
    "response: ChatResponse = chat(model='llama3.1', messages=[\n",
    "    {'role': 'user', 'content': 'Can you say me the level 4 ATC code of a drug if I send you the SMILES?'},\n",
    "    {'role': 'user', 'content': 'SMILES: CC[C@H](C)[C@H](NC(=O)[C@H](CCC(=O)O)NC(=O)[C@H](CCC(=O)O)NC(=O)[C@H](Cc1ccccc1)NC(=O)[C@H](CC(=O)O)NC(=O)CNC(=O)[C@H](CC(N)=O)NC(=O)CNC(=O)CNC(=O)CNC(=O)CNC(=O)[C@@H]1CCCN1C(=O)[C@H](CCCNC(=N)N)NC(=O)[C@@H]1CCCN1C(=O)[C@H](N)Cc1ccccc1)C(=O)N1CCC[C@H]1C(=O)N[C@@H](CCC(=O)O)C(=O)N[C@@H](CCC(=O)O)C(=O)N[C@@H](Cc1ccc(O)cc1)C(=O)N[C@@H](CC(C)C)C(=O)O'},\n",
    "    {'role': 'assistant', 'content': 'B01AE'},\n",
    "    {'role': 'user', 'content': 'SMILES: C/C=C/C[C@@H](C)[C@@H](O)[C@H]1C(=O)N[C@@H](CC)C(=O)N(C)CC(=O)N(C)[C@@H](CC(C)C)C(=O)N[C@@H](C(C)C)C(=O)N(C)[C@@H](CC(C)C)C(=O)N[C@@H](C)C(=O)N[C@H](C)C(=O)N(C)[C@@H](CC(C)C)C(=O)N(C)[C@@H](CC(C)C)C(=O)N(C)[C@@H](C(C)C)C(=O)N1C'},\n",
    "    {'role': 'assistant', 'content': 'L04AD, S01XA'},\n",
    "    {'role': 'user', 'content': 'SMILES: Cc1cc2nc3c(=O)[nH]c(=O)nc-3n(C[C@H](O)[C@H](O)[C@H](O)CO)c2cc1C'},\n",
    "    {'role': 'assistant', 'content': 'A11HA, S01XA'},\n",
    "    {'role': 'user', 'content': 'SMILES: C=C1CC[C@H](O)C/C1=C/C=C1\\\\CCC[C@]2(C)[C@@H]([C@H](C)/C=C/[C@H](C)C(C)C)CC[C@@H]12'},\n",
    "    {'role': 'assistant', 'content':  'A11CC'},\n",
    "    {'role': 'user', 'content': 'SMILES: O=C(O)CCCC[C@@H]1CCSS1'},\n",
    "])\n",
    "\n",
    "# Imprime la respuesta\n",
    "print(response['message']['content'])"
   ]
  },
  {
   "cell_type": "code",
   "execution_count": null,
   "id": "648465d1-ed2c-4fd1-94d7-7cce3e8694fd",
   "metadata": {},
   "outputs": [],
   "source": []
  },
  {
   "cell_type": "code",
   "execution_count": null,
   "id": "6ce6663c-7629-49b3-96c7-f24d5f310e57",
   "metadata": {},
   "outputs": [],
   "source": []
  }
 ],
 "metadata": {
  "kernelspec": {
   "display_name": "Python 3 (ipykernel)",
   "language": "python",
   "name": "python3"
  },
  "language_info": {
   "codemirror_mode": {
    "name": "ipython",
    "version": 3
   },
   "file_extension": ".py",
   "mimetype": "text/x-python",
   "name": "python",
   "nbconvert_exporter": "python",
   "pygments_lexer": "ipython3",
   "version": "3.12.4"
  }
 },
 "nbformat": 4,
 "nbformat_minor": 5
}
