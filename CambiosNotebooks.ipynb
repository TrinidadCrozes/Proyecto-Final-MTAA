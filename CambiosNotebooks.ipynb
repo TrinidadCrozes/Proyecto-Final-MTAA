{
 "cells": [
  {
   "cell_type": "code",
   "execution_count": 1,
   "id": "a1fa4d80-c95f-4bfd-9e0d-95db17783479",
   "metadata": {},
   "outputs": [
    {
     "name": "stdout",
     "output_type": "stream",
     "text": [
      "Metadata 'widgets' eliminada, outputs preservados.\n"
     ]
    }
   ],
   "source": [
    "import nbformat\n",
    "\n",
    "# Carga el notebook\n",
    "path = \"4-Gemma3(4B)finetuning.ipynb\"\n",
    "nb = nbformat.read(path, as_version=4)\n",
    "\n",
    "# Elimina metadata.widgets pero mantiene el resto\n",
    "if \"widgets\" in nb.get(\"metadata\", {}):\n",
    "    del nb[\"metadata\"][\"widgets\"]\n",
    "\n",
    "# Guarda el notebook corregido\n",
    "nbformat.write(nb, path)\n",
    "\n",
    "print(\"Metadata 'widgets' eliminada, outputs preservados.\")"
   ]
  },
  {
   "cell_type": "code",
   "execution_count": 2,
   "id": "62c9b030-1e6a-452e-8298-0ab6efc7f092",
   "metadata": {},
   "outputs": [
    {
     "name": "stdout",
     "output_type": "stream",
     "text": [
      "Metadata 'widgets' eliminada, outputs preservados.\n"
     ]
    }
   ],
   "source": [
    "# Carga el notebook\n",
    "path = \"3-Gemma3(1B)finetuning.ipynb\"\n",
    "nb = nbformat.read(path, as_version=4)\n",
    "\n",
    "# Elimina metadata.widgets pero mantiene el resto\n",
    "if \"widgets\" in nb.get(\"metadata\", {}):\n",
    "    del nb[\"metadata\"][\"widgets\"]\n",
    "\n",
    "# Guarda el notebook corregido\n",
    "nbformat.write(nb, path)\n",
    "\n",
    "print(\"Metadata 'widgets' eliminada, outputs preservados.\")"
   ]
  },
  {
   "cell_type": "code",
   "execution_count": 6,
   "id": "fb622c80-0c64-44ae-abe0-1d876ed89aed",
   "metadata": {},
   "outputs": [
    {
     "name": "stdout",
     "output_type": "stream",
     "text": [
      "Metadata 'widgets' eliminada, outputs preservados.\n"
     ]
    }
   ],
   "source": [
    "# Carga el notebook\n",
    "path = \"Otras pruebas - fine-tuning/1-Gemma3(4B)finetuning.ipynb\"\n",
    "nb = nbformat.read(path, as_version=4)\n",
    "\n",
    "# Elimina metadata.widgets pero mantiene el resto\n",
    "if \"widgets\" in nb.get(\"metadata\", {}):\n",
    "    del nb[\"metadata\"][\"widgets\"]\n",
    "\n",
    "# Guarda el notebook corregido\n",
    "nbformat.write(nb, path)\n",
    "\n",
    "print(\"Metadata 'widgets' eliminada, outputs preservados.\")"
   ]
  },
  {
   "cell_type": "code",
   "execution_count": 7,
   "id": "631812ad-38ae-4b72-b462-5ae90886186f",
   "metadata": {},
   "outputs": [
    {
     "name": "stdout",
     "output_type": "stream",
     "text": [
      "Metadata 'widgets' eliminada, outputs preservados.\n"
     ]
    }
   ],
   "source": [
    "# Carga el notebook\n",
    "path = \"Otras pruebas - fine-tuning/2-Gemma3(4B)finetuning.ipynb\"\n",
    "nb = nbformat.read(path, as_version=4)\n",
    "\n",
    "# Elimina metadata.widgets pero mantiene el resto\n",
    "if \"widgets\" in nb.get(\"metadata\", {}):\n",
    "    del nb[\"metadata\"][\"widgets\"]\n",
    "\n",
    "# Guarda el notebook corregido\n",
    "nbformat.write(nb, path)\n",
    "\n",
    "print(\"Metadata 'widgets' eliminada, outputs preservados.\")"
   ]
  },
  {
   "cell_type": "code",
   "execution_count": null,
   "id": "d318f0c1-85ee-492a-9885-864aab7ccab2",
   "metadata": {},
   "outputs": [],
   "source": []
  }
 ],
 "metadata": {
  "kernelspec": {
   "display_name": "Python 3 (ipykernel)",
   "language": "python",
   "name": "python3"
  },
  "language_info": {
   "codemirror_mode": {
    "name": "ipython",
    "version": 3
   },
   "file_extension": ".py",
   "mimetype": "text/x-python",
   "name": "python",
   "nbconvert_exporter": "python",
   "pygments_lexer": "ipython3",
   "version": "3.12.4"
  }
 },
 "nbformat": 4,
 "nbformat_minor": 5
}
